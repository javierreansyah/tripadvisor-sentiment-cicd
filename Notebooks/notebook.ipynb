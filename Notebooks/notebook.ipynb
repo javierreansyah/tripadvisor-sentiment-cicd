{
 "cells": [
  {
   "cell_type": "code",
   "execution_count": 2,
   "id": "e5908ebd",
   "metadata": {},
   "outputs": [],
   "source": [
    "# 225150200111004_1 HAIKAL THORIQ ATHAYA_1\n",
    "# 225150200111008_2 MUHAMMAD ARSYA ZAIN YASHIFA_2\n",
    "# 225150201111001_3 JAVIER AAHMES REANSYAH_3\n",
    "# 225150201111003_4 MUHAMMAD HERDI ADAM_4"
   ]
  },
  {
   "cell_type": "code",
   "execution_count": 3,
   "id": "b1a6f25e",
   "metadata": {},
   "outputs": [
    {
     "name": "stdout",
     "output_type": "stream",
     "text": [
      "Requirement already satisfied: kagglehub[pandas-datasets] in /Users/arsyazain/Downloads/SEMESTER ANTARA 7/MLOps/tripadvisor-sentiment-cicd/.venv/lib/python3.13/site-packages (0.3.12)\n",
      "Requirement already satisfied: packaging in /Users/arsyazain/Downloads/SEMESTER ANTARA 7/MLOps/tripadvisor-sentiment-cicd/.venv/lib/python3.13/site-packages (from kagglehub[pandas-datasets]) (25.0)\n",
      "Requirement already satisfied: pyyaml in /Users/arsyazain/Downloads/SEMESTER ANTARA 7/MLOps/tripadvisor-sentiment-cicd/.venv/lib/python3.13/site-packages (from kagglehub[pandas-datasets]) (6.0.2)\n",
      "Requirement already satisfied: requests in /Users/arsyazain/Downloads/SEMESTER ANTARA 7/MLOps/tripadvisor-sentiment-cicd/.venv/lib/python3.13/site-packages (from kagglehub[pandas-datasets]) (2.32.4)\n",
      "Requirement already satisfied: tqdm in /Users/arsyazain/Downloads/SEMESTER ANTARA 7/MLOps/tripadvisor-sentiment-cicd/.venv/lib/python3.13/site-packages (from kagglehub[pandas-datasets]) (4.67.1)\n",
      "Requirement already satisfied: pandas in /Users/arsyazain/Downloads/SEMESTER ANTARA 7/MLOps/tripadvisor-sentiment-cicd/.venv/lib/python3.13/site-packages (from kagglehub[pandas-datasets]) (2.3.1)\n",
      "Requirement already satisfied: numpy>=1.26.0 in /Users/arsyazain/Downloads/SEMESTER ANTARA 7/MLOps/tripadvisor-sentiment-cicd/.venv/lib/python3.13/site-packages (from pandas->kagglehub[pandas-datasets]) (2.3.1)\n",
      "Requirement already satisfied: python-dateutil>=2.8.2 in /Users/arsyazain/Downloads/SEMESTER ANTARA 7/MLOps/tripadvisor-sentiment-cicd/.venv/lib/python3.13/site-packages (from pandas->kagglehub[pandas-datasets]) (2.9.0.post0)\n",
      "Requirement already satisfied: pytz>=2020.1 in /Users/arsyazain/Downloads/SEMESTER ANTARA 7/MLOps/tripadvisor-sentiment-cicd/.venv/lib/python3.13/site-packages (from pandas->kagglehub[pandas-datasets]) (2025.2)\n",
      "Requirement already satisfied: tzdata>=2022.7 in /Users/arsyazain/Downloads/SEMESTER ANTARA 7/MLOps/tripadvisor-sentiment-cicd/.venv/lib/python3.13/site-packages (from pandas->kagglehub[pandas-datasets]) (2025.2)\n",
      "Requirement already satisfied: six>=1.5 in /Users/arsyazain/Downloads/SEMESTER ANTARA 7/MLOps/tripadvisor-sentiment-cicd/.venv/lib/python3.13/site-packages (from python-dateutil>=2.8.2->pandas->kagglehub[pandas-datasets]) (1.17.0)\n",
      "Requirement already satisfied: charset_normalizer<4,>=2 in /Users/arsyazain/Downloads/SEMESTER ANTARA 7/MLOps/tripadvisor-sentiment-cicd/.venv/lib/python3.13/site-packages (from requests->kagglehub[pandas-datasets]) (3.4.2)\n",
      "Requirement already satisfied: idna<4,>=2.5 in /Users/arsyazain/Downloads/SEMESTER ANTARA 7/MLOps/tripadvisor-sentiment-cicd/.venv/lib/python3.13/site-packages (from requests->kagglehub[pandas-datasets]) (3.10)\n",
      "Requirement already satisfied: urllib3<3,>=1.21.1 in /Users/arsyazain/Downloads/SEMESTER ANTARA 7/MLOps/tripadvisor-sentiment-cicd/.venv/lib/python3.13/site-packages (from requests->kagglehub[pandas-datasets]) (2.5.0)\n",
      "Requirement already satisfied: certifi>=2017.4.17 in /Users/arsyazain/Downloads/SEMESTER ANTARA 7/MLOps/tripadvisor-sentiment-cicd/.venv/lib/python3.13/site-packages (from requests->kagglehub[pandas-datasets]) (2025.7.9)\n",
      "Requirement already satisfied: six>=1.5 in /Users/arsyazain/Downloads/SEMESTER ANTARA 7/MLOps/tripadvisor-sentiment-cicd/.venv/lib/python3.13/site-packages (from python-dateutil>=2.8.2->pandas->kagglehub[pandas-datasets]) (1.17.0)\n",
      "Requirement already satisfied: charset_normalizer<4,>=2 in /Users/arsyazain/Downloads/SEMESTER ANTARA 7/MLOps/tripadvisor-sentiment-cicd/.venv/lib/python3.13/site-packages (from requests->kagglehub[pandas-datasets]) (3.4.2)\n",
      "Requirement already satisfied: idna<4,>=2.5 in /Users/arsyazain/Downloads/SEMESTER ANTARA 7/MLOps/tripadvisor-sentiment-cicd/.venv/lib/python3.13/site-packages (from requests->kagglehub[pandas-datasets]) (3.10)\n",
      "Requirement already satisfied: urllib3<3,>=1.21.1 in /Users/arsyazain/Downloads/SEMESTER ANTARA 7/MLOps/tripadvisor-sentiment-cicd/.venv/lib/python3.13/site-packages (from requests->kagglehub[pandas-datasets]) (2.5.0)\n",
      "Requirement already satisfied: certifi>=2017.4.17 in /Users/arsyazain/Downloads/SEMESTER ANTARA 7/MLOps/tripadvisor-sentiment-cicd/.venv/lib/python3.13/site-packages (from requests->kagglehub[pandas-datasets]) (2025.7.9)\n",
      "Note: you may need to restart the kernel to use updated packages.\n",
      "Note: you may need to restart the kernel to use updated packages.\n"
     ]
    },
    {
     "name": "stdout",
     "output_type": "stream",
     "text": [
      "Requirement already satisfied: kagglehub[pandas-datasets] in /Users/arsyazain/Downloads/SEMESTER ANTARA 7/MLOps/tripadvisor-sentiment-cicd/.venv/lib/python3.13/site-packages (0.3.12)\n",
      "Requirement already satisfied: packaging in /Users/arsyazain/Downloads/SEMESTER ANTARA 7/MLOps/tripadvisor-sentiment-cicd/.venv/lib/python3.13/site-packages (from kagglehub[pandas-datasets]) (25.0)\n",
      "Requirement already satisfied: pyyaml in /Users/arsyazain/Downloads/SEMESTER ANTARA 7/MLOps/tripadvisor-sentiment-cicd/.venv/lib/python3.13/site-packages (from kagglehub[pandas-datasets]) (6.0.2)\n",
      "Requirement already satisfied: requests in /Users/arsyazain/Downloads/SEMESTER ANTARA 7/MLOps/tripadvisor-sentiment-cicd/.venv/lib/python3.13/site-packages (from kagglehub[pandas-datasets]) (2.32.4)\n",
      "Requirement already satisfied: tqdm in /Users/arsyazain/Downloads/SEMESTER ANTARA 7/MLOps/tripadvisor-sentiment-cicd/.venv/lib/python3.13/site-packages (from kagglehub[pandas-datasets]) (4.67.1)\n",
      "Requirement already satisfied: pandas in /Users/arsyazain/Downloads/SEMESTER ANTARA 7/MLOps/tripadvisor-sentiment-cicd/.venv/lib/python3.13/site-packages (from kagglehub[pandas-datasets]) (2.3.1)\n",
      "Requirement already satisfied: numpy>=1.26.0 in /Users/arsyazain/Downloads/SEMESTER ANTARA 7/MLOps/tripadvisor-sentiment-cicd/.venv/lib/python3.13/site-packages (from pandas->kagglehub[pandas-datasets]) (2.3.1)\n",
      "Requirement already satisfied: python-dateutil>=2.8.2 in /Users/arsyazain/Downloads/SEMESTER ANTARA 7/MLOps/tripadvisor-sentiment-cicd/.venv/lib/python3.13/site-packages (from pandas->kagglehub[pandas-datasets]) (2.9.0.post0)\n",
      "Requirement already satisfied: pytz>=2020.1 in /Users/arsyazain/Downloads/SEMESTER ANTARA 7/MLOps/tripadvisor-sentiment-cicd/.venv/lib/python3.13/site-packages (from pandas->kagglehub[pandas-datasets]) (2025.2)\n",
      "Requirement already satisfied: tzdata>=2022.7 in /Users/arsyazain/Downloads/SEMESTER ANTARA 7/MLOps/tripadvisor-sentiment-cicd/.venv/lib/python3.13/site-packages (from pandas->kagglehub[pandas-datasets]) (2025.2)\n",
      "Requirement already satisfied: six>=1.5 in /Users/arsyazain/Downloads/SEMESTER ANTARA 7/MLOps/tripadvisor-sentiment-cicd/.venv/lib/python3.13/site-packages (from python-dateutil>=2.8.2->pandas->kagglehub[pandas-datasets]) (1.17.0)\n",
      "Requirement already satisfied: charset_normalizer<4,>=2 in /Users/arsyazain/Downloads/SEMESTER ANTARA 7/MLOps/tripadvisor-sentiment-cicd/.venv/lib/python3.13/site-packages (from requests->kagglehub[pandas-datasets]) (3.4.2)\n",
      "Requirement already satisfied: idna<4,>=2.5 in /Users/arsyazain/Downloads/SEMESTER ANTARA 7/MLOps/tripadvisor-sentiment-cicd/.venv/lib/python3.13/site-packages (from requests->kagglehub[pandas-datasets]) (3.10)\n",
      "Requirement already satisfied: urllib3<3,>=1.21.1 in /Users/arsyazain/Downloads/SEMESTER ANTARA 7/MLOps/tripadvisor-sentiment-cicd/.venv/lib/python3.13/site-packages (from requests->kagglehub[pandas-datasets]) (2.5.0)\n",
      "Requirement already satisfied: certifi>=2017.4.17 in /Users/arsyazain/Downloads/SEMESTER ANTARA 7/MLOps/tripadvisor-sentiment-cicd/.venv/lib/python3.13/site-packages (from requests->kagglehub[pandas-datasets]) (2025.7.9)\n",
      "Requirement already satisfied: six>=1.5 in /Users/arsyazain/Downloads/SEMESTER ANTARA 7/MLOps/tripadvisor-sentiment-cicd/.venv/lib/python3.13/site-packages (from python-dateutil>=2.8.2->pandas->kagglehub[pandas-datasets]) (1.17.0)\n",
      "Requirement already satisfied: charset_normalizer<4,>=2 in /Users/arsyazain/Downloads/SEMESTER ANTARA 7/MLOps/tripadvisor-sentiment-cicd/.venv/lib/python3.13/site-packages (from requests->kagglehub[pandas-datasets]) (3.4.2)\n",
      "Requirement already satisfied: idna<4,>=2.5 in /Users/arsyazain/Downloads/SEMESTER ANTARA 7/MLOps/tripadvisor-sentiment-cicd/.venv/lib/python3.13/site-packages (from requests->kagglehub[pandas-datasets]) (3.10)\n",
      "Requirement already satisfied: urllib3<3,>=1.21.1 in /Users/arsyazain/Downloads/SEMESTER ANTARA 7/MLOps/tripadvisor-sentiment-cicd/.venv/lib/python3.13/site-packages (from requests->kagglehub[pandas-datasets]) (2.5.0)\n",
      "Requirement already satisfied: certifi>=2017.4.17 in /Users/arsyazain/Downloads/SEMESTER ANTARA 7/MLOps/tripadvisor-sentiment-cicd/.venv/lib/python3.13/site-packages (from requests->kagglehub[pandas-datasets]) (2025.7.9)\n",
      "Note: you may need to restart the kernel to use updated packages.\n",
      "Note: you may need to restart the kernel to use updated packages.\n"
     ]
    },
    {
     "name": "stderr",
     "output_type": "stream",
     "text": [
      "/Users/arsyazain/Downloads/SEMESTER ANTARA 7/MLOps/tripadvisor-sentiment-cicd/.venv/lib/python3.13/site-packages/tqdm/auto.py:21: TqdmWarning: IProgress not found. Please update jupyter and ipywidgets. See https://ipywidgets.readthedocs.io/en/stable/user_install.html\n",
      "  from .autonotebook import tqdm as notebook_tqdm\n",
      "/var/folders/8m/4swyp5sx7gndw6f_287smdbw0000gn/T/ipykernel_75494/505985576.py:10: DeprecationWarning: load_dataset is deprecated and will be removed in a future version.\n",
      "  df = kagglehub.load_dataset(\n"
     ]
    },
    {
     "name": "stdout",
     "output_type": "stream",
     "text": [
      "Requirement already satisfied: kagglehub[pandas-datasets] in /Users/arsyazain/Downloads/SEMESTER ANTARA 7/MLOps/tripadvisor-sentiment-cicd/.venv/lib/python3.13/site-packages (0.3.12)\n",
      "Requirement already satisfied: packaging in /Users/arsyazain/Downloads/SEMESTER ANTARA 7/MLOps/tripadvisor-sentiment-cicd/.venv/lib/python3.13/site-packages (from kagglehub[pandas-datasets]) (25.0)\n",
      "Requirement already satisfied: pyyaml in /Users/arsyazain/Downloads/SEMESTER ANTARA 7/MLOps/tripadvisor-sentiment-cicd/.venv/lib/python3.13/site-packages (from kagglehub[pandas-datasets]) (6.0.2)\n",
      "Requirement already satisfied: requests in /Users/arsyazain/Downloads/SEMESTER ANTARA 7/MLOps/tripadvisor-sentiment-cicd/.venv/lib/python3.13/site-packages (from kagglehub[pandas-datasets]) (2.32.4)\n",
      "Requirement already satisfied: tqdm in /Users/arsyazain/Downloads/SEMESTER ANTARA 7/MLOps/tripadvisor-sentiment-cicd/.venv/lib/python3.13/site-packages (from kagglehub[pandas-datasets]) (4.67.1)\n",
      "Requirement already satisfied: pandas in /Users/arsyazain/Downloads/SEMESTER ANTARA 7/MLOps/tripadvisor-sentiment-cicd/.venv/lib/python3.13/site-packages (from kagglehub[pandas-datasets]) (2.3.1)\n",
      "Requirement already satisfied: numpy>=1.26.0 in /Users/arsyazain/Downloads/SEMESTER ANTARA 7/MLOps/tripadvisor-sentiment-cicd/.venv/lib/python3.13/site-packages (from pandas->kagglehub[pandas-datasets]) (2.3.1)\n",
      "Requirement already satisfied: python-dateutil>=2.8.2 in /Users/arsyazain/Downloads/SEMESTER ANTARA 7/MLOps/tripadvisor-sentiment-cicd/.venv/lib/python3.13/site-packages (from pandas->kagglehub[pandas-datasets]) (2.9.0.post0)\n",
      "Requirement already satisfied: pytz>=2020.1 in /Users/arsyazain/Downloads/SEMESTER ANTARA 7/MLOps/tripadvisor-sentiment-cicd/.venv/lib/python3.13/site-packages (from pandas->kagglehub[pandas-datasets]) (2025.2)\n",
      "Requirement already satisfied: tzdata>=2022.7 in /Users/arsyazain/Downloads/SEMESTER ANTARA 7/MLOps/tripadvisor-sentiment-cicd/.venv/lib/python3.13/site-packages (from pandas->kagglehub[pandas-datasets]) (2025.2)\n",
      "Requirement already satisfied: six>=1.5 in /Users/arsyazain/Downloads/SEMESTER ANTARA 7/MLOps/tripadvisor-sentiment-cicd/.venv/lib/python3.13/site-packages (from python-dateutil>=2.8.2->pandas->kagglehub[pandas-datasets]) (1.17.0)\n",
      "Requirement already satisfied: charset_normalizer<4,>=2 in /Users/arsyazain/Downloads/SEMESTER ANTARA 7/MLOps/tripadvisor-sentiment-cicd/.venv/lib/python3.13/site-packages (from requests->kagglehub[pandas-datasets]) (3.4.2)\n",
      "Requirement already satisfied: idna<4,>=2.5 in /Users/arsyazain/Downloads/SEMESTER ANTARA 7/MLOps/tripadvisor-sentiment-cicd/.venv/lib/python3.13/site-packages (from requests->kagglehub[pandas-datasets]) (3.10)\n",
      "Requirement already satisfied: urllib3<3,>=1.21.1 in /Users/arsyazain/Downloads/SEMESTER ANTARA 7/MLOps/tripadvisor-sentiment-cicd/.venv/lib/python3.13/site-packages (from requests->kagglehub[pandas-datasets]) (2.5.0)\n",
      "Requirement already satisfied: certifi>=2017.4.17 in /Users/arsyazain/Downloads/SEMESTER ANTARA 7/MLOps/tripadvisor-sentiment-cicd/.venv/lib/python3.13/site-packages (from requests->kagglehub[pandas-datasets]) (2025.7.9)\n",
      "Requirement already satisfied: six>=1.5 in /Users/arsyazain/Downloads/SEMESTER ANTARA 7/MLOps/tripadvisor-sentiment-cicd/.venv/lib/python3.13/site-packages (from python-dateutil>=2.8.2->pandas->kagglehub[pandas-datasets]) (1.17.0)\n",
      "Requirement already satisfied: charset_normalizer<4,>=2 in /Users/arsyazain/Downloads/SEMESTER ANTARA 7/MLOps/tripadvisor-sentiment-cicd/.venv/lib/python3.13/site-packages (from requests->kagglehub[pandas-datasets]) (3.4.2)\n",
      "Requirement already satisfied: idna<4,>=2.5 in /Users/arsyazain/Downloads/SEMESTER ANTARA 7/MLOps/tripadvisor-sentiment-cicd/.venv/lib/python3.13/site-packages (from requests->kagglehub[pandas-datasets]) (3.10)\n",
      "Requirement already satisfied: urllib3<3,>=1.21.1 in /Users/arsyazain/Downloads/SEMESTER ANTARA 7/MLOps/tripadvisor-sentiment-cicd/.venv/lib/python3.13/site-packages (from requests->kagglehub[pandas-datasets]) (2.5.0)\n",
      "Requirement already satisfied: certifi>=2017.4.17 in /Users/arsyazain/Downloads/SEMESTER ANTARA 7/MLOps/tripadvisor-sentiment-cicd/.venv/lib/python3.13/site-packages (from requests->kagglehub[pandas-datasets]) (2025.7.9)\n",
      "Note: you may need to restart the kernel to use updated packages.\n",
      "Note: you may need to restart the kernel to use updated packages.\n"
     ]
    },
    {
     "name": "stderr",
     "output_type": "stream",
     "text": [
      "/Users/arsyazain/Downloads/SEMESTER ANTARA 7/MLOps/tripadvisor-sentiment-cicd/.venv/lib/python3.13/site-packages/tqdm/auto.py:21: TqdmWarning: IProgress not found. Please update jupyter and ipywidgets. See https://ipywidgets.readthedocs.io/en/stable/user_install.html\n",
      "  from .autonotebook import tqdm as notebook_tqdm\n",
      "/var/folders/8m/4swyp5sx7gndw6f_287smdbw0000gn/T/ipykernel_75494/505985576.py:10: DeprecationWarning: load_dataset is deprecated and will be removed in a future version.\n",
      "  df = kagglehub.load_dataset(\n"
     ]
    },
    {
     "name": "stdout",
     "output_type": "stream",
     "text": [
      "First 5 records:\n"
     ]
    },
    {
     "data": {
      "text/html": [
       "<div>\n",
       "<style scoped>\n",
       "    .dataframe tbody tr th:only-of-type {\n",
       "        vertical-align: middle;\n",
       "    }\n",
       "\n",
       "    .dataframe tbody tr th {\n",
       "        vertical-align: top;\n",
       "    }\n",
       "\n",
       "    .dataframe thead th {\n",
       "        text-align: right;\n",
       "    }\n",
       "</style>\n",
       "<table border=\"1\" class=\"dataframe\">\n",
       "  <thead>\n",
       "    <tr style=\"text-align: right;\">\n",
       "      <th></th>\n",
       "      <th>Review</th>\n",
       "      <th>Rating</th>\n",
       "    </tr>\n",
       "  </thead>\n",
       "  <tbody>\n",
       "    <tr>\n",
       "      <th>0</th>\n",
       "      <td>nice hotel expensive parking got good deal sta...</td>\n",
       "      <td>4</td>\n",
       "    </tr>\n",
       "    <tr>\n",
       "      <th>1</th>\n",
       "      <td>ok nothing special charge diamond member hilto...</td>\n",
       "      <td>2</td>\n",
       "    </tr>\n",
       "    <tr>\n",
       "      <th>2</th>\n",
       "      <td>nice rooms not 4* experience hotel monaco seat...</td>\n",
       "      <td>3</td>\n",
       "    </tr>\n",
       "    <tr>\n",
       "      <th>3</th>\n",
       "      <td>unique, great stay, wonderful time hotel monac...</td>\n",
       "      <td>5</td>\n",
       "    </tr>\n",
       "    <tr>\n",
       "      <th>4</th>\n",
       "      <td>great stay great stay, went seahawk game aweso...</td>\n",
       "      <td>5</td>\n",
       "    </tr>\n",
       "  </tbody>\n",
       "</table>\n",
       "</div>"
      ],
      "text/plain": [
       "                                              Review  Rating\n",
       "0  nice hotel expensive parking got good deal sta...       4\n",
       "1  ok nothing special charge diamond member hilto...       2\n",
       "2  nice rooms not 4* experience hotel monaco seat...       3\n",
       "3  unique, great stay, wonderful time hotel monac...       5\n",
       "4  great stay great stay, went seahawk game aweso...       5"
      ]
     },
     "metadata": {},
     "output_type": "display_data"
    }
   ],
   "source": [
    "# Install dependencies as needed:\n",
    "%pip install kagglehub[pandas-datasets]\n",
    "import kagglehub\n",
    "from kagglehub import KaggleDatasetAdapter\n",
    "\n",
    "# Set the path to the CSV file in the dataset\n",
    "file_path = \"tripadvisor_hotel_reviews.csv\"\n",
    "\n",
    "# Load the latest version\n",
    "df = kagglehub.load_dataset(\n",
    "    KaggleDatasetAdapter.PANDAS,\n",
    "    \"andrewmvd/trip-advisor-hotel-reviews\",\n",
    "    file_path,\n",
    ")\n",
    "\n",
    "print(\"First 5 records:\")\n",
    "display(df.head())"
   ]
  },
  {
   "cell_type": "code",
   "execution_count": 4,
   "id": "cc78e948",
   "metadata": {},
   "outputs": [],
   "source": [
    "import os\n",
    "os.makedirs('../Data', exist_ok=True)\n",
    "df.to_csv('../Data/tripadvisor_hotel_reviews.csv', index=False)"
   ]
  },
  {
   "cell_type": "code",
   "execution_count": 5,
   "id": "f8fd023d",
   "metadata": {},
   "outputs": [],
   "source": [
    "# Preprocessing and training with TF-IDF and Logistic Regression\n",
    "from sklearn.model_selection import train_test_split\n",
    "from sklearn.feature_extraction.text import TfidfVectorizer\n",
    "from sklearn.linear_model import LogisticRegression\n",
    "from sklearn.metrics import classification_report, accuracy_score\n",
    "\n",
    "df['Rating'] = df['Rating'].apply(lambda x: 1 if x >= 4 else 0)\n",
    "\n",
    "X = df['Review']\n",
    "y = df['Rating']\n",
    "\n",
    "# Split data\n",
    "X_train, X_test, y_train, y_test = train_test_split(X, y, test_size=0.2, random_state=42)"
   ]
  },
  {
   "cell_type": "code",
   "execution_count": 6,
   "id": "dee82e39",
   "metadata": {},
   "outputs": [],
   "source": [
    "# TF-IDF Vectorization\n",
    "vectorizer = TfidfVectorizer(max_features=5000)\n",
    "X_train_tfidf = vectorizer.fit_transform(X_train)\n",
    "X_test_tfidf = vectorizer.transform(X_test)"
   ]
  },
  {
   "cell_type": "code",
   "execution_count": 7,
   "id": "5974fcb5",
   "metadata": {},
   "outputs": [
    {
     "name": "stdout",
     "output_type": "stream",
     "text": [
      "              precision    recall  f1-score   support\n",
      "\n",
      "    Negative       0.88      0.74      0.80      1057\n",
      "    Positive       0.91      0.96      0.94      3042\n",
      "\n",
      "    accuracy                           0.91      4099\n",
      "   macro avg       0.90      0.85      0.87      4099\n",
      "weighted avg       0.90      0.91      0.90      4099\n",
      "\n"
     ]
    }
   ],
   "source": [
    "# Train logistic regression model\n",
    "model = LogisticRegression(max_iter=1000, solver='lbfgs')\n",
    "model.fit(X_train_tfidf, y_train)\n",
    "\n",
    "# Evaluate on evaluation dataset\n",
    "y_pred = model.predict(X_test_tfidf)\n",
    "\n",
    "# Print classification report\n",
    "print(classification_report(y_test, y_pred, target_names=['Negative', 'Positive']))"
   ]
  },
  {
   "cell_type": "code",
   "execution_count": 11,
   "id": "40c0644e",
   "metadata": {},
   "outputs": [
    {
     "name": "stdout",
     "output_type": "stream",
     "text": [
      "15055    okay..need communication pls, overall just oka...\n",
      "Name: Review, dtype: object\n"
     ]
    }
   ],
   "source": [
    "print(df['Review'].sample(1))"
   ]
  }
 ],
 "metadata": {
  "kernelspec": {
   "display_name": ".venv",
   "language": "python",
   "name": "python3"
  },
  "language_info": {
   "codemirror_mode": {
    "name": "ipython",
    "version": 3
   },
   "file_extension": ".py",
   "mimetype": "text/x-python",
   "name": "python",
   "nbconvert_exporter": "python",
   "pygments_lexer": "ipython3",
   "version": "3.13.3"
  }
 },
 "nbformat": 4,
 "nbformat_minor": 5
}
