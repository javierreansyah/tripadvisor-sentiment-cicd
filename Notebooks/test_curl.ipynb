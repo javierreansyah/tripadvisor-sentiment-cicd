{
 "cells": [
  {
   "cell_type": "code",
   "execution_count": 19,
   "id": "30859d5a",
   "metadata": {},
   "outputs": [
    {
     "name": "stdout",
     "output_type": "stream",
     "text": [
      "Raw response text:\n",
      "{\"predictions\": [1]}\n",
      "\n",
      "Parsed JSON:\n",
      "{\n",
      "  \"predictions\": [\n",
      "    1\n",
      "  ]\n",
      "}\n"
     ]
    }
   ],
   "source": [
    "import requests\n",
    "import pandas as pd\n",
    "import json\n",
    "\n",
    "MODEL_SERVER_URL = \"http://localhost:1234/invocations\"\n",
    "\n",
    "sample_reviews = [\n",
    "    \"Amazing product, very satisfied.\",\n",
    "    \"Worst experience ever.\",\n",
    "    \"Okay, could be better.\"\n",
    "]\n",
    "\n",
    "# Correct DataFrame: column name must exactly match 'Review'\n",
    "df = pd.DataFrame(sample_reviews, columns=['Review'])\n",
    "data = {\"dataframe_split\": df.to_dict(orient=\"split\")}\n",
    "headers = {\"Content-Type\": \"application/json\"}\n",
    "\n",
    "response = requests.post(MODEL_SERVER_URL, json=data, headers=headers)\n",
    "response.raise_for_status()\n",
    "\n",
    "print(\"Raw response text:\")\n",
    "print(response.text)\n",
    "\n",
    "print(\"\\nParsed JSON:\")\n",
    "print(json.dumps(response.json(), indent=2))\n"
   ]
  }
 ],
 "metadata": {
  "kernelspec": {
   "display_name": "Python 3",
   "language": "python",
   "name": "python3"
  },
  "language_info": {
   "codemirror_mode": {
    "name": "ipython",
    "version": 3
   },
   "file_extension": ".py",
   "mimetype": "text/x-python",
   "name": "python",
   "nbconvert_exporter": "python",
   "pygments_lexer": "ipython3",
   "version": "3.11.9"
  }
 },
 "nbformat": 4,
 "nbformat_minor": 5
}
