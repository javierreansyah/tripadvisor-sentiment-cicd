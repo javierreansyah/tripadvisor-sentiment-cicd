{
 "cells": [
  {
   "cell_type": "code",
   "execution_count": null,
   "id": "9ce668dc",
   "metadata": {},
   "outputs": [],
   "source": [
    "import pandas as pd\n",
    "\n",
    "# Load raw data\n",
    "df = pd.read_csv('../Data/tripadvisor_hotel_reviews.csv')\n",
    "\n",
    "# Map ratings to text sentiment\n",
    "df['Sentiment'] = df['Rating'].apply(lambda x: 'Positive' if x >= 4 else 'Negative')\n",
    "\n",
    "# Optionally add numeric labels: Positive → 1, Negative → 0\n",
    "df['Sentiment'] = df['Sentiment'].map({'Negative': 0, 'Positive': 1})\n",
    "\n",
    "# Drop the original rating column\n",
    "df = df.drop(columns=['Rating'])\n",
    "\n",
    "# Save to CSV\n",
    "df.to_csv('../Data/data.csv', index=False)\n",
    "\n",
    "df.head()"
   ]
  }
 ],
 "metadata": {
  "kernelspec": {
   "display_name": "Python 3",
   "language": "python",
   "name": "python3"
  },
  "language_info": {
   "codemirror_mode": {
    "name": "ipython",
    "version": 3
   },
   "file_extension": ".py",
   "mimetype": "text/x-python",
   "name": "python",
   "nbconvert_exporter": "python",
   "pygments_lexer": "ipython3",
   "version": "3.11.9"
  }
 },
 "nbformat": 4,
 "nbformat_minor": 5
}
