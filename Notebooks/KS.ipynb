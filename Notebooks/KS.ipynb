{
 "cells": [
  {
   "cell_type": "code",
   "execution_count": 7,
   "id": "8f0fa01f",
   "metadata": {},
   "outputs": [
    {
     "name": "stdout",
     "output_type": "stream",
     "text": [
      "KS Statistic: 0.010409912156556511, p-value: 7.842598544668252e-10\n",
      "Wasserstein Distance: 0.0008718507591024807\n"
     ]
    }
   ],
   "source": [
    "import pandas as pd\n",
    "from scipy.stats import ks_2samp\n",
    "from scipy.stats import wasserstein_distance\n",
    "from sklearn.feature_extraction.text import TfidfVectorizer\n",
    "\n",
    "# Load train and test data\n",
    "df = pd.read_csv('../Data/data.csv')\n",
    "new_df = pd.read_csv('../Data/new_data.csv')\n",
    "df = df.sample(frac=1).reset_index(drop=True)\n",
    "\n",
    "# Kolom yang dibandingkan: 'Review'\n",
    "reviews1 = df['Review'].fillna(\"\")\n",
    "reviews2 = new_df['Review'].fillna(\"\")\n",
    "\n",
    "# TF-IDF vectorization\n",
    "vectorizer = TfidfVectorizer(max_features=5000)\n",
    "tfidf1 = vectorizer.fit_transform(reviews1).toarray().flatten()\n",
    "tfidf2 = vectorizer.transform(reviews2).toarray().flatten()\n",
    "\n",
    "# Kolmogorov-Smirnov test\n",
    "ks_stat, ks_pvalue = ks_2samp(tfidf1, tfidf2)\n",
    "print(f\"KS Statistic: {ks_stat}, p-value: {ks_pvalue}\")\n",
    "\n",
    "# Wasserstein distance\n",
    "wd = wasserstein_distance(tfidf1, tfidf2)\n",
    "print(f\"Wasserstein Distance: {wd}\")"
   ]
  },
  {
   "cell_type": "code",
   "execution_count": 8,
   "id": "8435b6ad",
   "metadata": {},
   "outputs": [
    {
     "name": "stdout",
     "output_type": "stream",
     "text": [
      "KS Statistic (train vs test): 3.619957063172308e-05, p-value: 1.0\n",
      "Wasserstein Distance (train vs test): 3.272502854889912e-06\n"
     ]
    }
   ],
   "source": [
    "# Load train and test data\n",
    "train_df = pd.read_csv('../Data/train.csv')\n",
    "test_df = pd.read_csv('../Data/test.csv')\n",
    "train_df = train_df.sample(frac=1).reset_index(drop=True)\n",
    "\n",
    "# Kolom yang dibandingkan: 'Review'\n",
    "train_reviews = train_df['Review'].fillna(\"\")\n",
    "test_reviews = test_df['Review'].fillna(\"\")\n",
    "\n",
    "# TF-IDF vectorization\n",
    "vectorizer = TfidfVectorizer(max_features=5000)\n",
    "tfidf_train = vectorizer.fit_transform(train_reviews).toarray().flatten()\n",
    "tfidf_test = vectorizer.transform(test_reviews).toarray().flatten()\n",
    "\n",
    "# Kolmogorov-Smirnov test\n",
    "ks_stat, ks_pvalue = ks_2samp(tfidf_train, tfidf_test)\n",
    "print(f\"KS Statistic (train vs test): {ks_stat}, p-value: {ks_pvalue}\")\n",
    "\n",
    "# Wasserstein distance\n",
    "wd = wasserstein_distance(tfidf_train, tfidf_test)\n",
    "print(f\"Wasserstein Distance (train vs test): {wd}\")"
   ]
  },
  {
   "cell_type": "code",
   "execution_count": 5,
   "id": "3b4cd6c1",
   "metadata": {},
   "outputs": [
    {
     "name": "stdout",
     "output_type": "stream",
     "text": [
      "KS Statistic (test vs new_data): 0.011300400097584706, p-value: 1.817932328144194e-11\n",
      "Wasserstein Distance (test vs new_data): 0.0010197223183568932\n"
     ]
    }
   ],
   "source": [
    "# Kolom yang dibandingkan: 'Review'\n",
    "test_reviews = test_df['Review'].fillna(\"\")\n",
    "new_reviews = new_df['Review'].fillna(\"\")\n",
    "\n",
    "# TF-IDF vectorization\n",
    "vectorizer = TfidfVectorizer(max_features=5000)\n",
    "tfidf_test = vectorizer.fit_transform(test_reviews).toarray().flatten()\n",
    "tfidf_new = vectorizer.transform(new_reviews).toarray().flatten()\n",
    "\n",
    "# Kolmogorov-Smirnov test\n",
    "ks_stat, ks_pvalue = ks_2samp(tfidf_test, tfidf_new)\n",
    "print(f\"KS Statistic (test vs new_data): {ks_stat}, p-value: {ks_pvalue}\")\n",
    "\n",
    "# Wasserstein distance\n",
    "wd = wasserstein_distance(tfidf_test, tfidf_new)\n",
    "print(f\"Wasserstein Distance (test vs new_data): {wd}\")"
   ]
  },
  {
   "cell_type": "code",
   "execution_count": null,
   "id": "9b058059",
   "metadata": {},
   "outputs": [],
   "source": [
    "import pandas as pd\n",
    "from scipy.stats import ks_2samp, wasserstein_distance\n",
    "from sklearn.feature_extraction.text import TfidfVectorizer\n",
    "import matplotlib.pyplot as plt\n",
    "\n",
    "# Load train and new_data\n",
    "train_df = pd.read_csv('../Data/train.csv')\n",
    "new_df = pd.read_csv('../Data/new_data.csv')\n",
    "\n",
    "# Kolom yang dibandingkan: 'Review'\n",
    "train_reviews = train_df['Review'].fillna(\"\")\n",
    "new_reviews = new_df['Review'].fillna(\"\")\n",
    "\n",
    "# TF-IDF vectorization\n",
    "vectorizer = TfidfVectorizer(max_features=5000)\n",
    "tfidf_train = vectorizer.fit_transform(train_reviews).toarray().flatten()\n",
    "tfidf_new = vectorizer.transform(new_reviews).toarray().flatten()\n",
    "\n",
    "# Kolmogorov-Smirnov test\n",
    "ks_stat, ks_pvalue = ks_2samp(tfidf_train, tfidf_new)\n",
    "print(f\"KS Statistic (train vs new_data): {ks_stat}, p-value: {ks_pvalue}\")\n",
    "\n",
    "# Wasserstein distance\n",
    "wd = wasserstein_distance(tfidf_train, tfidf_new)\n",
    "print(f\"Wasserstein Distance (train vs new_data): {wd}\")"
   ]
  }
 ],
 "metadata": {
  "kernelspec": {
   "display_name": "Python 3",
   "language": "python",
   "name": "python3"
  },
  "language_info": {
   "codemirror_mode": {
    "name": "ipython",
    "version": 3
   },
   "file_extension": ".py",
   "mimetype": "text/x-python",
   "name": "python",
   "nbconvert_exporter": "python",
   "pygments_lexer": "ipython3",
   "version": "3.11.9"
  }
 },
 "nbformat": 4,
 "nbformat_minor": 5
}
