{
 "cells": [
  {
   "cell_type": "code",
   "execution_count": null,
   "id": "78518a09",
   "metadata": {},
   "outputs": [],
   "source": [
    "import pandas as pd\n",
    "from datetime import datetime\n",
    "import pytz\n",
    "\n",
    "df = pd.read_csv('../Data/original_data.csv')\n",
    "\n",
    "df_sampled = df.sample(n=500, random_state=42)\n",
    "df_original = df.drop(df_sampled.index)\n",
    "\n",
    "current_wib = datetime.now(pytz.timezone('Asia/Jakarta')).strftime('%Y-%m-%d %H:%M:%S')\n",
    "df_sampled['Timestamp'] = current_wib\n",
    "\n",
    "df_sampled"
   ]
  },
  {
   "cell_type": "code",
   "execution_count": null,
   "id": "aed1fc48",
   "metadata": {},
   "outputs": [],
   "source": [
    "df_original"
   ]
  },
  {
   "cell_type": "code",
   "execution_count": null,
   "id": "1400c07c",
   "metadata": {},
   "outputs": [],
   "source": [
    "df_sampled.to_csv('../Data/new_data.csv', index=False)\n",
    "df_original.to_csv('../Data/data.csv', index=False)"
   ]
  }
 ],
 "metadata": {
  "kernelspec": {
   "display_name": "Python 3",
   "language": "python",
   "name": "python3"
  },
  "language_info": {
   "codemirror_mode": {
    "name": "ipython",
    "version": 3
   },
   "file_extension": ".py",
   "mimetype": "text/x-python",
   "name": "python",
   "nbconvert_exporter": "python",
   "pygments_lexer": "ipython3",
   "version": "3.11.9"
  }
 },
 "nbformat": 4,
 "nbformat_minor": 5
}
